{
 "cells": [
  {
   "cell_type": "markdown",
   "metadata": {},
   "source": [
    "### Python\n",
    "\n",
    "A linguagem de programação Python foi criada em **1991** por Guido Van Rossum, com a finalidade de ser uma linguagem simples e de fácil compreensão. \n",
    "Apesar de simples, Python é uma linguagem muito poderosa, que pode ser usada para desenvolver e administrar grandes sistemas.\n",
    "\n",
    "Alguns sistemas desenvolvidos em **Python** : \n",
    "* Youtube\n",
    "* Instagram\n",
    "* Spotify\n",
    "* Facebook\n",
    "* Google (Em sua primeira implementação)"
   ]
  },
  {
   "cell_type": "markdown",
   "metadata": {},
   "source": [
    "### Quais são os tipos de dados existentes em python ?\n",
    "\n",
    "##### **Tipos de Dados Básicos** #####\n",
    "\n",
    "* **Inteiros** (int): Números inteiros, sem casas decimais. Eles podem ser positivos, negativos ou zero.\n",
    "    - Exemplo: 1, 0, -10, 100\n",
    "\n",
    "* **Pontos Flutuantes** (float): Números que podem ter casas decimais.\n",
    "    - Exemplo: 1.5, 0.0, -3.14\n",
    "* **Strings** (str): Sequências de caracteres, geralmente usadas para texto. As strings são delimitadas por aspas simples (') ou duplas (\").\n",
    "    - Exemplo: 'Olá, Mundo!', \"Python é divertido!\"\n",
    "* **Booleanos** (bool): Representa valores lógicos. Existem dois valores possíveis: True (verdadeiro) e False (falso).\n",
    "    - Exemplo: True, False\n",
    "\n",
    "##### **Estruturas de Dados Compostas** #####\n",
    "\n",
    "* **Listas** (list): Coleções de elementos. Os elementos podem ser de tipos diferentes e as listas podem ser alteradas (mutáveis).\n",
    "    - Exemplo: [1, 2, 3], ['a', 'b', 'c'], [1, 'dois', 3.0]\n",
    "* **Tuplas** (tuple): Semelhante às listas, mas imutáveis (ou seja, não podem ser alteradas após a criação). São úteis para dados que não devem ser modificados.\n",
    "    - Exemplo: (1, 2, 3), ('x', 'y', 'z')\n",
    "* **Conjuntos** (set): Coleções de elementos únicos, sem uma ordem específica. Eles são úteis para operações como interseção e união, também bloqueio de duplicação.\n",
    "    - Exemplo: {1, 2, 3}, {'a', 'b', 'c'}\n",
    "* **Dicionários** (dict): Estruturas que armazenam pares de chave-valor. As chaves devem ser únicas e podem ser usadas para acessar os valores correspondentes.\n",
    "    - Exemplo: {'nome': 'Alice', 'idade': 25}, {'a': 1, 'b': 2}"
   ]
  },
  {
   "cell_type": "markdown",
   "metadata": {},
   "source": [
    "#### **Exercício 1: Trabalhando com Strings**\n",
    "\n",
    "Você é um desenvolvedor Python trabalhando em um sistema que analisa texto. \n",
    "Seu trabalho é extrair algumas informações de uma string e modificar a estrutura para criar uma saída formatada.\n",
    "\n",
    "Dada a seguinte string: **\"O preço do produto é R$100.00\"**\n",
    "\n",
    "**A** - Extraia o valor do preço como um ponto flutuante (float).\n",
    "\n",
    "**B** - Converta a string para maiúsculas.\n",
    "\n",
    "**C** - Verifique se a palavra \"produto\" está presente na string."
   ]
  },
  {
   "cell_type": "code",
   "execution_count": 2,
   "metadata": {},
   "outputs": [],
   "source": [
    "## Respondendo Exercício 1 questão A, \n",
    "## Atribuindo o texto a uma variável\n",
    "phrase = \"O preço do produto é R$100.00\"\n",
    "float_value = ?"
   ]
  },
  {
   "cell_type": "code",
   "execution_count": null,
   "metadata": {},
   "outputs": [],
   "source": [
    "## Respondendo Exercício 1  questão B\n",
    "## Atribuindo o texto a uma variável\n",
    "phrase = \"O preço do produto é R$100.00\"\n",
    "## Convertendo a string para maiúsculas\n",
    "capitalized = ?"
   ]
  },
  {
   "cell_type": "code",
   "execution_count": null,
   "metadata": {},
   "outputs": [],
   "source": [
    "## Respondendo Exercício 1 questão C\n",
    "## Atribuindo o texto a uma variável\n",
    "phrase = \"O preço do produto é R$100.00\"\n",
    "## Verificando se a palavra \"produto\" está presente na string.\n",
    "verification = ?"
   ]
  },
  {
   "cell_type": "markdown",
   "metadata": {},
   "source": [
    "#### **Exercício 2: Manipulação de Listas** ####\n",
    "\n",
    "Você está trabalhando com uma lista de números inteiros. \n",
    "Seu objetivo é calcular a soma de todos os elementos, adicionar um novo número ao final da lista e remover o primeiro elemento.\n",
    "\n",
    "Dada a seguinte lista: **[10, 20, 30, 40, 50]**\n",
    "\n",
    "**A** - Calcule a soma de todos os elementos.\n",
    "\n",
    "**B** - Adicione o número 60 ao final da lista.\n",
    "\n",
    "**C** - Remova o primeiro elemento da lista."
   ]
  },
  {
   "cell_type": "code",
   "execution_count": null,
   "metadata": {},
   "outputs": [],
   "source": [
    "## Respondendo Exercício 2 questão A\n",
    "## Atribuindo a lista a uma variável\n",
    "list_ = [10, 20, 30, 40, 50]\n",
    "## calculando a soma de todos os elementos da lista\n",
    "sum_list = ?"
   ]
  },
  {
   "cell_type": "code",
   "execution_count": null,
   "metadata": {},
   "outputs": [],
   "source": [
    "## Respondendo Exercício 2 questão B\n",
    "## Atribuindo a lista a uma variável\n",
    "list_ = [10, 20, 30, 40, 50]\n",
    "## calculando a soma de todos os elementos da lista\n",
    "number60_at_end = ?"
   ]
  },
  {
   "cell_type": "code",
   "execution_count": null,
   "metadata": {},
   "outputs": [],
   "source": [
    "## Respondendo Exercício 2 questão C\n",
    "## Atribuindo a lista a uma variável\n",
    "list_ = [10, 20, 30, 40, 50]\n",
    "## Remova o primeiro elemento da lista\n",
    "remove_first = ?"
   ]
  },
  {
   "cell_type": "markdown",
   "metadata": {},
   "source": [
    "#### **Exercício 3: Conjuntos e Tuplas** ####\n",
    "\n",
    "Você precisa trabalhar com conjuntos para verificar quais elementos são exclusivos entre duas listas e com tuplas para criar coordenadas fixas.\n",
    "\n",
    "Dadas duas listas: **[1, 2, 3, 4]** e **[3, 4, 5, 6]**\n",
    "\n",
    "**A** - Crie dois conjuntos a partir dessas listas.\n",
    "\n",
    "**B** - Encontre a interseção entre os dois conjuntos.\n",
    "\n",
    "**C** - Crie uma tupla representando coordenadas (x, y) com valores os valores das listas."
   ]
  },
  {
   "cell_type": "code",
   "execution_count": null,
   "metadata": {},
   "outputs": [],
   "source": [
    "## Respondendo Exercício 3 questão A\n",
    "## Atribuindo as listas as variaveis.\n",
    "list_1 = [1, 2, 3, 4]\n",
    "list_2 = [3, 4, 5, 6]\n",
    "## Crie dois conjuntos a partir dessas listas\n",
    "set_1 = ?\n",
    "set_2 = ?"
   ]
  },
  {
   "cell_type": "code",
   "execution_count": 7,
   "metadata": {},
   "outputs": [
    {
     "data": {
      "text/plain": [
       "{3, 4}"
      ]
     },
     "execution_count": 7,
     "metadata": {},
     "output_type": "execute_result"
    }
   ],
   "source": [
    "## Respondendo Exercício 3 questão B\n",
    "## Atribuindo as listas as variaveis.\n",
    "list_1 = [1, 2, 3, 4]\n",
    "list_2 = [3, 4, 5, 6]\n",
    "## Crie os conjuntos\n",
    "set_1 = ?\n",
    "set_2 = ?\n",
    "## Encontre a interseção entre os dois\n",
    "intersection = ?"
   ]
  },
  {
   "cell_type": "code",
   "execution_count": null,
   "metadata": {},
   "outputs": [],
   "source": [
    "## Respondendo Exercício 3 questão C\n",
    "## Crie uma tupla representando o conjunto de coordenadas para x sendo a lista [1,2,3,4] e para y sendo [3, 4, 5, 6] \n",
    "tuple_x_y = ?"
   ]
  },
  {
   "cell_type": "markdown",
   "metadata": {},
   "source": [
    "#### **Exercício 4: Trabalhando com Dicionários** ####\n",
    "\n",
    "Você precisa criar um sistema para armazenar dados de estudantes em um dicionário, onde cada chave é o nome do estudante e o valor é a idade do estudante.\n",
    "\n",
    "Dado o seguinte dicionário de estudantes: **{'Alice': 20, 'Bob': 22, 'Carol': 21}**\n",
    "\n",
    "**A** - Adicione um novo estudante chamado \"David\" com a idade de 23.\n",
    "\n",
    "**B** - Aumente a idade de \"Alice\" em 1 ano.\n",
    "\n",
    "**C** - Verifique se existe um estudante chamado \"Bob\" no dicionário."
   ]
  },
  {
   "cell_type": "code",
   "execution_count": null,
   "metadata": {},
   "outputs": [],
   "source": [
    "## Respondendo Exercício 4 questão A\n",
    "## Atribuindo o dicionário padrão a uma variável\n",
    "students_dict = {\"Alice\" : 20, \"Bob\": 22, \"Carol\" : 21}\n",
    "## Adicione um novo estudante chamado \"David\" com a idade de 23.\n",
    "students_dict = ?"
   ]
  },
  {
   "cell_type": "code",
   "execution_count": null,
   "metadata": {},
   "outputs": [],
   "source": [
    "## Respondendo Exercício 4 questão B\n",
    "## Atribuindo o dicionário padrão a uma variável\n",
    "students_dict = {\"Alice\" : 20, \"Bob\": 22, \"Carol\" : 21}\n",
    "## Aumente a idade de \"Alice\" em 1 ano\n",
    "students_dict = ?"
   ]
  },
  {
   "cell_type": "code",
   "execution_count": null,
   "metadata": {},
   "outputs": [],
   "source": [
    "## Respondendo Exercício 4 questão C\n",
    "## Atribuindo o dicionário padrão a uma variável\n",
    "students_dict = {\"Alice\" : 20, \"Bob\": 22, \"Carol\" : 21}\n",
    "## Verifique se existe um estudante chamado \"Bob\" no dicionário.\n",
    "students_dict = ?"
   ]
  },
  {
   "cell_type": "markdown",
   "metadata": {},
   "source": [
    "#### **Exercício 5: Manipulação de Dados Mistos** ####\n",
    "\n",
    "Você tem um mix de dados que inclui diferentes tipos, como strings, números, listas e dicionários. \n",
    "Seu trabalho é extrair informações úteis e reestruturar os dados.\n",
    "\n",
    "Dada a seguinte lista: **[10, \"Olá\", [1, 2, 3], {'nome': 'Alice', 'idade': 25}]**\n",
    "\n",
    "**A** - Acesse o terceiro elemento da lista e adicione um número a ele.\n",
    "\n",
    "**B** - Extraia o valor da chave 'nome' do dicionário no último elemento.\n",
    "\n",
    "**C** - Concatene a string \"Bem-vindo\" à segunda posição da lista."
   ]
  },
  {
   "cell_type": "code",
   "execution_count": 11,
   "metadata": {},
   "outputs": [
    {
     "data": {
      "text/plain": [
       "[1, 2, 3]"
      ]
     },
     "execution_count": 11,
     "metadata": {},
     "output_type": "execute_result"
    }
   ],
   "source": [
    "## Respondendo Exercício 5 questão A\n",
    "## Atribuindo a lista a uma variável\n",
    "list_multiple_types = [10, \"Olá\", [1, 2, 3], {'nome': 'Alice', 'idade': 25}]\n",
    "## Acesse o terceiro elemento da lista e adicione um número a ele.\n",
    "third_element = ?"
   ]
  },
  {
   "cell_type": "code",
   "execution_count": null,
   "metadata": {},
   "outputs": [],
   "source": [
    "## Respondendo Exercício 5 questão B\n",
    "## Atribuindo a lista a uma variável\n",
    "list_multiple_types = [10, \"Olá\", [1, 2, 3], {'nome': 'Alice', 'idade': 25}]\n",
    "## Extraia o valor da chave 'nome' do dicionário no último elemento.\n",
    "value_name = ?"
   ]
  },
  {
   "cell_type": "code",
   "execution_count": null,
   "metadata": {},
   "outputs": [],
   "source": [
    "## Respondendo Exercício 5 questão C\n",
    "## Atribuindo a lista a uma variável\n",
    "list_multiple_types = [10, \"Olá\", [1, 2, 3], {'nome': 'Alice', 'idade': 25}]\n",
    "## Concatene a string \"Bem-vindo\" à segunda posição da lista.\n",
    "concat_second_elem = ?"
   ]
  }
 ],
 "metadata": {
  "kernelspec": {
   "display_name": ".venv",
   "language": "python",
   "name": "python3"
  },
  "language_info": {
   "codemirror_mode": {
    "name": "ipython",
    "version": 3
   },
   "file_extension": ".py",
   "mimetype": "text/x-python",
   "name": "python",
   "nbconvert_exporter": "python",
   "pygments_lexer": "ipython3",
   "version": "3.12.0"
  }
 },
 "nbformat": 4,
 "nbformat_minor": 2
}
